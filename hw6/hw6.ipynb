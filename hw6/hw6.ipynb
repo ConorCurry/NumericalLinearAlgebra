{
 "cells": [
  {
   "cell_type": "markdown",
   "metadata": {
    "deletable": true,
    "editable": true
   },
   "source": [
    "# Function for Computing FOR; Jacobi Iteration"
   ]
  },
  {
   "cell_type": "code",
   "execution_count": 1,
   "metadata": {
    "collapsed": false,
    "deletable": true,
    "editable": true,
    "scrolled": true
   },
   "outputs": [
    {
     "data": {
      "text/plain": [
       "jacobi (generic function with 2 methods)"
      ]
     },
     "execution_count": 1,
     "metadata": {},
     "output_type": "execute_result"
    }
   ],
   "source": [
    "function jacobi(N, x0, xf, g0, gf, f, itermax, tol=0)\n",
    "    h = (xf-x0) / (N+1)\n",
    "    u = [f(i*h) for i in 0:(N+1)]\n",
    "    u[1] = g0\n",
    "    u[end] = gf\n",
    "    unew = [0. for _ in u]\n",
    "    res = [0. for _ in u]\n",
    "    Δ = [0. for _ in u]\n",
    "    b = [0. for _ in u]\n",
    "    \n",
    "    for iter in 1:itermax\n",
    "        for i in 2:N+1\n",
    "            au = u[i-1] + u[i+1]\n",
    "            b[i] = f((i-1)*h) * (h^2)\n",
    "            unew[i] = 1/2 * (b[i] + au)\n",
    "            res[i] = b[i] + au - (2u[i])\n",
    "            Δ = unew[i] - u[i] \n",
    "        end  \n",
    "        if tol > 0 && norm(res) < tol * norm(b) && norm(Δ) < tol * norm(unew)\n",
    "            println(\"Solution converged after $iter iterations\")\n",
    "            return true, u\n",
    "        end\n",
    "        #swap references to avoid copying data/busying garbage collector\n",
    "        u, unew = unew, u \n",
    "    end\n",
    "    if tol > 0\n",
    "        println(\"Convergence Failed\")\n",
    "    end\n",
    "    return false, u\n",
    "end"
   ]
  },
  {
   "cell_type": "markdown",
   "metadata": {
    "deletable": true,
    "editable": true
   },
   "source": [
    "## Checking example solution..."
   ]
  },
  {
   "cell_type": "code",
   "execution_count": 2,
   "metadata": {
    "collapsed": false,
    "deletable": true,
    "editable": true
   },
   "outputs": [
    {
     "data": {
      "text/plain": [
       "6-element Array{Float64,1}:\n",
       " 0.0       \n",
       " 0.00640143\n",
       " 0.0112029 \n",
       " 0.0128023 \n",
       " 0.00960181\n",
       " 0.0       "
      ]
     },
     "execution_count": 2,
     "metadata": {},
     "output_type": "execute_result"
    }
   ],
   "source": [
    "N=4\n",
    "x0=0\n",
    "xf=1\n",
    "g0=gf=0\n",
    "conv, u = jacobi(N, x0, xf, g0, gf, (x)->x/5, 50)\n",
    "u"
   ]
  },
  {
   "cell_type": "markdown",
   "metadata": {
    "deletable": true,
    "editable": true
   },
   "source": [
    "#### Note: I'm pretty sure there's an error in the example. making the solutions off by a factor of 25^2. So we'll do a small correction to verify the example's solution."
   ]
  },
  {
   "cell_type": "code",
   "execution_count": 3,
   "metadata": {
    "collapsed": false,
    "deletable": true,
    "editable": true
   },
   "outputs": [
    {
     "data": {
      "text/plain": [
       "6-element Array{Float64,1}:\n",
       " 0.0    \n",
       " 4.00089\n",
       " 7.00183\n",
       " 8.00145\n",
       " 6.00113\n",
       " 0.0    "
      ]
     },
     "execution_count": 3,
     "metadata": {},
     "output_type": "execute_result"
    }
   ],
   "source": [
    "u .* 25^2"
   ]
  },
  {
   "cell_type": "markdown",
   "metadata": {
    "deletable": true,
    "editable": true
   },
   "source": [
    "# Running code with convergence verification\n",
    "This utilizes the optional argument for tol, set to 10e-8"
   ]
  },
  {
   "cell_type": "code",
   "execution_count": 4,
   "metadata": {
    "collapsed": false,
    "deletable": true,
    "editable": true
   },
   "outputs": [
    {
     "name": "stdout",
     "output_type": "stream",
     "text": [
      "Solution converged after 89 iterations\n"
     ]
    },
    {
     "data": {
      "text/plain": [
       "6-element Array{Float64,1}:\n",
       " 0.0   \n",
       " 0.0064\n",
       " 0.0112\n",
       " 0.0128\n",
       " 0.0096\n",
       " 0.0   "
      ]
     },
     "execution_count": 4,
     "metadata": {},
     "output_type": "execute_result"
    }
   ],
   "source": [
    "N = 4\n",
    "conv, u = jacobi(N, x0, xf, g0, gf, (x)->x/5, 1000, 10e-8)\n",
    "u"
   ]
  },
  {
   "cell_type": "markdown",
   "metadata": {
    "deletable": true,
    "editable": true
   },
   "source": [
    "### So we can see that it took 89 iterations to converge with a 10e-8 tolerance!"
   ]
  },
  {
   "cell_type": "markdown",
   "metadata": {
    "deletable": true,
    "editable": true
   },
   "source": [
    "# Running again with h=1/200, f(x) = x/200"
   ]
  },
  {
   "cell_type": "code",
   "execution_count": 5,
   "metadata": {
    "collapsed": false,
    "deletable": true,
    "editable": true
   },
   "outputs": [
    {
     "name": "stdout",
     "output_type": "stream",
     "text": [
      "Solution converged after 149614 iterations\n"
     ]
    },
    {
     "data": {
      "text/plain": [
       "201-element Array{Float64,1}:\n",
       " 0.0       \n",
       " 4.16656e-6\n",
       " 8.3325e-6 \n",
       " 1.24972e-5\n",
       " 1.666e-5  \n",
       " 2.08203e-5\n",
       " 2.49775e-5\n",
       " 2.91309e-5\n",
       " 3.328e-5  \n",
       " 3.74241e-5\n",
       " 4.15625e-5\n",
       " 4.56947e-5\n",
       " 4.982e-5  \n",
       " ⋮         \n",
       " 8.42428e-5\n",
       " 7.71875e-5\n",
       " 7.00134e-5\n",
       " 6.272e-5  \n",
       " 5.53066e-5\n",
       " 4.77725e-5\n",
       " 4.01172e-5\n",
       " 3.234e-5  \n",
       " 2.44403e-5\n",
       " 1.64175e-5\n",
       " 8.27094e-6\n",
       " 0.0       "
      ]
     },
     "execution_count": 5,
     "metadata": {},
     "output_type": "execute_result"
    }
   ],
   "source": [
    "#Setting N so we get an h=1/200\n",
    "N = ((xf-x0) * 200) - 1\n",
    "conv, u = jacobi(N, x0, xf, g0, gf, (x)->x/200, 1000000, 10e-8)\n",
    "u"
   ]
  },
  {
   "cell_type": "markdown",
   "metadata": {
    "deletable": true,
    "editable": true
   },
   "source": [
    "### Yikes, that took 149614 iterations. This is much worse, and we didn't even change the step size by very much!"
   ]
  },
  {
   "cell_type": "markdown",
   "metadata": {
    "deletable": true,
    "editable": true
   },
   "source": [
    "# Computing the Relative Two Norm"
   ]
  },
  {
   "cell_type": "code",
   "execution_count": 6,
   "metadata": {
    "collapsed": false,
    "deletable": true,
    "editable": true
   },
   "outputs": [
    {
     "data": {
      "text/plain": [
       "anal_soln (generic function with 1 method)"
      ]
     },
     "execution_count": 6,
     "metadata": {},
     "output_type": "execute_result"
    }
   ],
   "source": [
    "anal_soln(x) = ((-x^3)/1200) + (1/1200)x"
   ]
  },
  {
   "cell_type": "code",
   "execution_count": 7,
   "metadata": {
    "collapsed": false,
    "deletable": true,
    "editable": true
   },
   "outputs": [
    {
     "data": {
      "text/plain": [
       "8.466924187410467e-8"
      ]
     },
     "execution_count": 7,
     "metadata": {},
     "output_type": "execute_result"
    }
   ],
   "source": [
    "h = (xf-x0) / (N+1)\n",
    "xs = [i*h for i in 0:(N+1)]\n",
    "diffs = [anal_soln(xs[i]) - u[i] for i in 1:N+2]\n",
    "norm(diffs) / norm([anal_soln(xs[i]) for i in 1:N+2])"
   ]
  },
  {
   "cell_type": "markdown",
   "metadata": {
    "deletable": true,
    "editable": true
   },
   "source": [
    "### Looks pretty small!"
   ]
  }
 ],
 "metadata": {
  "kernelspec": {
   "display_name": "Julia 0.5.0",
   "language": "julia",
   "name": "julia-0.5"
  },
  "language_info": {
   "file_extension": ".jl",
   "mimetype": "application/julia",
   "name": "julia",
   "version": "0.5.1"
  }
 },
 "nbformat": 4,
 "nbformat_minor": 2
}
