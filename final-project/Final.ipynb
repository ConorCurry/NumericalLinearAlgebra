{
 "cells": [
  {
   "cell_type": "markdown",
   "metadata": {
    "slideshow": {
     "slide_type": "slide"
    }
   },
   "source": [
    "# Parallel Iterative Methods (in Julia)\n",
    "### _Utilizing excess processing power_\n",
    "\n",
    "_Conor Curry_"
   ]
  },
  {
   "cell_type": "markdown",
   "metadata": {
    "slideshow": {
     "slide_type": "fragment"
    }
   },
   "source": [
    "Parallel processing is the idea of using multiple semi-independent streams of instructions and/or data to achieve a program speedup.\n",
    "\n",
    "The Julia language has built-in tools to make parallel numerical processing relatively easy."
   ]
  },
  {
   "cell_type": "markdown",
   "metadata": {
    "slideshow": {
     "slide_type": "subslide"
    }
   },
   "source": [
    "In this first example, we only have a single process. So, our print should happen once."
   ]
  },
  {
   "cell_type": "code",
   "execution_count": 1,
   "metadata": {
    "slideshow": {
     "slide_type": "fragment"
    }
   },
   "outputs": [
    {
     "name": "stdout",
     "output_type": "stream",
     "text": [
      "Hello\n"
     ]
    }
   ],
   "source": [
    "@everywhere println(\"Hello\")"
   ]
  },
  {
   "cell_type": "markdown",
   "metadata": {
    "slideshow": {
     "slide_type": "subslide"
    }
   },
   "source": [
    "Lets add some processes, to make this parallel."
   ]
  },
  {
   "cell_type": "code",
   "execution_count": 2,
   "metadata": {
    "slideshow": {
     "slide_type": "fragment"
    }
   },
   "outputs": [
    {
     "name": "stdout",
     "output_type": "stream",
     "text": [
      "Hej\n",
      "\tFrom worker 2:\tHej\n",
      "\tFrom worker 6:\tHej\n",
      "\tFrom worker 7:\tHej\n",
      "\tFrom worker 4:\tHej\n",
      "\tFrom worker 8:\tHej\n",
      "\tFrom worker 3:\tHej\n",
      "\tFrom worker 9:\tHej\n",
      "\tFrom worker 5:\tHej\n"
     ]
    }
   ],
   "source": [
    "addprocs(8)\n",
    "@everywhere println(\"Hej\")"
   ]
  },
  {
   "cell_type": "markdown",
   "metadata": {
    "slideshow": {
     "slide_type": "fragment"
    }
   },
   "source": [
    "After we add 8 processes, we have 8 workers, and one master (the calling process). "
   ]
  },
  {
   "cell_type": "markdown",
   "metadata": {
    "slideshow": {
     "slide_type": "fragment"
    }
   },
   "source": [
    "Here we've used the `@everywhere` macro to send a function to be evaluated by **every** process (including the master)."
   ]
  },
  {
   "cell_type": "markdown",
   "metadata": {
    "slideshow": {
     "slide_type": "slide"
    }
   },
   "source": [
    "## What happens when we work with arrays?"
   ]
  },
  {
   "cell_type": "code",
   "execution_count": 3,
   "metadata": {
    "slideshow": {
     "slide_type": "fragment"
    }
   },
   "outputs": [
    {
     "name": "stdout",
     "output_type": "stream",
     "text": [
      "[0.0\tFrom worker 5:\t[0.722133 0.475486; 0.261045 0.439297]\n",
      "508189 0.682605; 0.622404 0.552853]\n",
      "\tFrom worker 7:\t[0.0691057 0.9266; 0.46679 0.449829]\n",
      "\tFrom worker 3:\t[0.13173 0.184641; 0.661123 0.277325]\n",
      "\tFrom worker 8:\t[0.2258 0.518572; 0.655396 0.347718]\n",
      "\tFrom worker 9:\t[0.260516 0.546671; 0.318901 0.594424]\n",
      "\tFrom worker 6:\t[0.80088 0.337003; 0.847599 0.774482]\n",
      "\tFrom worker 2:\t[0.462502 0.53817; 0.715189 0.719102]\n",
      "\tFrom worker 4:\t[0.024076 0.321367; 0.755005 0.485862]\n"
     ]
    }
   ],
   "source": [
    "@everywhere println(rand(2,2))"
   ]
  },
  {
   "cell_type": "markdown",
   "metadata": {
    "slideshow": {
     "slide_type": "fragment"
    }
   },
   "source": [
    "Predictibly, each process made its *own* random numbers."
   ]
  },
  {
   "cell_type": "markdown",
   "metadata": {
    "slideshow": {
     "slide_type": "fragment"
    }
   },
   "source": [
    "This is **no good** for parallelizing iterative methods. "
   ]
  },
  {
   "cell_type": "markdown",
   "metadata": {
    "slideshow": {
     "slide_type": "fragment"
    }
   },
   "source": [
    "Notice as well that the processes aren't executing in any particular order. "
   ]
  },
  {
   "cell_type": "markdown",
   "metadata": {
    "slideshow": {
     "slide_type": "subslide"
    }
   },
   "source": [
    "This is a **major** feature that separates *parallel* programs from *sequential* programs."
   ]
  },
  {
   "cell_type": "markdown",
   "metadata": {
    "slideshow": {
     "slide_type": "slide"
    }
   },
   "source": [
    "## Shared Arrays"
   ]
  },
  {
   "cell_type": "markdown",
   "metadata": {
    "slideshow": {
     "slide_type": "fragment"
    }
   },
   "source": [
    "Let's initialize a _\"Shared Array\"_ using the workers, to be shared amongst the workers."
   ]
  },
  {
   "cell_type": "code",
   "execution_count": 4,
   "metadata": {
    "slideshow": {
     "slide_type": "subslide"
    }
   },
   "outputs": [
    {
     "data": {
      "text/plain": [
       "4×5 SharedArray{Int64,2}:\n",
       " 2  6  2  6  2\n",
       " 3  7  3  7  3\n",
       " 4  8  4  8  4\n",
       " 5  9  5  9  5"
      ]
     },
     "execution_count": 4,
     "metadata": {},
     "output_type": "execute_result"
    }
   ],
   "source": [
    "A = SharedArray(Int64, \n",
    "                (4,5), \n",
    "                init = S::SharedArray -> S[indexpids(S):length(procs(S)):length(S)] = myid())"
   ]
  },
  {
   "cell_type": "markdown",
   "metadata": {
    "slideshow": {
     "slide_type": "fragment"
    }
   },
   "source": [
    "Above, the work of initializing was split evenly among the 8 workers. "
   ]
  },
  {
   "cell_type": "markdown",
   "metadata": {
    "slideshow": {
     "slide_type": "fragment"
    }
   },
   "source": [
    "In a **20** element matrix, each processor got either **2 or 3** to initialize (value in the matrix = ID of the assigned worker). "
   ]
  },
  {
   "cell_type": "markdown",
   "metadata": {
    "slideshow": {
     "slide_type": "fragment"
    }
   },
   "source": [
    "The `indexpids` function was used to set the start index \n",
    "(values 1-8 depending on the processor), \n",
    "and the rest of the range sets the _stride_."
   ]
  },
  {
   "cell_type": "code",
   "execution_count": 7,
   "metadata": {
    "slideshow": {
     "slide_type": "skip"
    }
   },
   "outputs": [],
   "source": [
    "for p in procs(A)\n",
    "    @async println(fetch(remotecall_wait(indexpids, p, A)))\n",
    "end"
   ]
  },
  {
   "cell_type": "markdown",
   "metadata": {
    "slideshow": {
     "slide_type": "slide"
    }
   },
   "source": [
    "## Sequential Jacobi"
   ]
  },
  {
   "cell_type": "code",
   "execution_count": 8,
   "metadata": {
    "slideshow": {
     "slide_type": "subslide"
    }
   },
   "outputs": [
    {
     "data": {
      "text/plain": [
       "jacobi (generic function with 1 method)"
      ]
     },
     "execution_count": 8,
     "metadata": {},
     "output_type": "execute_result"
    }
   ],
   "source": [
    "function jacobi(N, x0, xf, g0, gf, f, itermax)\n",
    "    h = (xf-x0) / (N+1)\n",
    "    u = [f(i*h) for i in 0:(N+1)]\n",
    "    u[1] = g0\n",
    "    u[end] = gf\n",
    "    unew = zeros(Float64, size(u))\n",
    "    res = zeros(Float64, size(u))\n",
    "    Δ = zeros(Float64, size(u))\n",
    "    b = zeros(Float64, size(u))\n",
    "    \n",
    "    for iter in 1:itermax\n",
    "        for i in 2:N+1\n",
    "            au = u[i-1] + u[i+1]\n",
    "            b[i] = f((i-1)*h) * (h^2)\n",
    "            unew[i] = 1/2 * (b[i] + au)\n",
    "            res[i] = b[i] + au - (2u[i])\n",
    "            Δ[i] = unew[i] - u[i] \n",
    "        end        \n",
    "        #swap references to avoid copying data/busying garbage collector\n",
    "        u, unew = unew, u \n",
    "    end\n",
    "    return u\n",
    "end"
   ]
  },
  {
   "cell_type": "markdown",
   "metadata": {
    "slideshow": {
     "slide_type": "slide"
    }
   },
   "source": [
    "# Parallel Jacobi\n",
    "\n",
    "_The Method of Simultaneous Displacements_"
   ]
  },
  {
   "cell_type": "markdown",
   "metadata": {
    "slideshow": {
     "slide_type": "fragment"
    }
   },
   "source": [
    "To parallelize Jacobi, we just need to make the displacements as \"simultaneous\" as possible."
   ]
  },
  {
   "cell_type": "markdown",
   "metadata": {
    "slideshow": {
     "slide_type": "fragment"
    }
   },
   "source": [
    "So just try to divide up the work among the workers as evenly as possible."
   ]
  },
  {
   "cell_type": "code",
   "execution_count": 9,
   "metadata": {
    "slideshow": {
     "slide_type": "subslide"
    }
   },
   "outputs": [
    {
     "name": "stdout",
     "output_type": "stream",
     "text": [
      "7\n",
      "8\n",
      "1\n",
      "3\n",
      "6\n",
      "2\n",
      "5\n",
      "4\n"
     ]
    }
   ],
   "source": [
    "@everywhere function jacobi_inner_shared!(u, unew, res, Δ, b, f, h, myrange)\n",
    "    for i in myrange\n",
    "        au = u[i-1] + u[i+1]\n",
    "        b[i] = f((i-1)*h) * (h^2)\n",
    "        unew[i] = 1/2 * (b[i] + au)\n",
    "        res[i] = b[i] + au - (2u[i])\n",
    "        Δ[i] = unew[i] - u[i]\n",
    "    end\n",
    "end;"
   ]
  },
  {
   "cell_type": "markdown",
   "metadata": {
    "slideshow": {
     "slide_type": "fragment"
    }
   },
   "source": [
    "This little code shard is the meat of the Jacobi method, and is what the indivdual workers will do."
   ]
  },
  {
   "cell_type": "code",
   "execution_count": 10,
   "metadata": {
    "slideshow": {
     "slide_type": "subslide"
    }
   },
   "outputs": [],
   "source": [
    "@everywhere function get_chunk(S::SharedArray)\n",
    "    idx = indexpids(S)\n",
    "    if idx == 0\n",
    "        return 1:0\n",
    "    end    \n",
    "    splits = [round(Int, s) for s in linspace(1,length(S)-1,length(procs(S))+1)]\n",
    "    return splits[idx]+1:splits[idx+1]    \n",
    "end;"
   ]
  },
  {
   "cell_type": "markdown",
   "metadata": {
    "slideshow": {
     "slide_type": "fragment"
    }
   },
   "source": [
    "This just splits up the work evenly..."
   ]
  },
  {
   "cell_type": "code",
   "execution_count": 11,
   "metadata": {
    "slideshow": {
     "slide_type": "fragment"
    }
   },
   "outputs": [],
   "source": [
    "@everywhere function jacobi_inner_chunk!(u, unew, res, Δ, b, f, h)\n",
    "    jacobi_inner_shared!(u, unew, res, Δ, b, f, h, get_chunk(u))\n",
    "end"
   ]
  },
  {
   "cell_type": "markdown",
   "metadata": {
    "slideshow": {
     "slide_type": "fragment"
    }
   },
   "source": [
    "And this is a helpful little function for allocating the right partition to the right worker."
   ]
  },
  {
   "cell_type": "code",
   "execution_count": 12,
   "metadata": {
    "slideshow": {
     "slide_type": "subslide"
    }
   },
   "outputs": [],
   "source": [
    "function parallel_jacobi(N, x0, xf, g0, gf, f, itermax)\n",
    "    h = (xf-x0) / (N+1)\n",
    "    u = convert(SharedArray, [f(i*h) for i in 0:(N+1)])\n",
    "    u[1] = g0\n",
    "    u[end] = gf\n",
    "    unew = SharedArray(Float64, size(u))\n",
    "    res = SharedArray(Float64, size(u))\n",
    "    Δ = SharedArray(Float64, size(u))\n",
    "    b = SharedArray(Float64, size(u))\n",
    "    \n",
    "    for iter in 1:itermax\n",
    "        @sync begin\n",
    "            for p in procs(u)\n",
    "                @async remotecall_wait(jacobi_inner_chunk!, p, u, unew, res, Δ, b, f, h)\n",
    "            end\n",
    "        end\n",
    "        #swap references to avoid copying data/busying garbage collector\n",
    "        u, unew = unew, u \n",
    "    end\n",
    "    return u\n",
    "end;"
   ]
  },
  {
   "cell_type": "markdown",
   "metadata": {
    "slideshow": {
     "slide_type": "fragment"
    }
   },
   "source": [
    "Here all of the arrays are `SharedArray`s, and the processes are asynchronously working on tasks."
   ]
  },
  {
   "cell_type": "markdown",
   "metadata": {
    "slideshow": {
     "slide_type": "fragment"
    }
   },
   "source": [
    "Before moving on to the next iteration, all the processes need to sync up. This is the job of the `@sync` macro."
   ]
  },
  {
   "cell_type": "code",
   "execution_count": 13,
   "metadata": {
    "slideshow": {
     "slide_type": "skip"
    }
   },
   "outputs": [
    {
     "data": {
      "text/plain": [
       "10000002-element SharedArray{Float64,1}:\n",
       " 0.0        \n",
       " 5.0e-10    \n",
       " 1.0e-9     \n",
       " 1.5e-9     \n",
       " 2.0e-9     \n",
       " 2.5e-9     \n",
       " 3.0e-9     \n",
       " 3.5e-9     \n",
       " 4.0e-9     \n",
       " 4.5e-9     \n",
       " 5.0e-9     \n",
       " 5.5e-9     \n",
       " 6.0e-9     \n",
       " ⋮          \n",
       " 0.00188595 \n",
       " 0.00172456 \n",
       " 0.00156318 \n",
       " 0.00139589 \n",
       " 0.0012286  \n",
       " 0.00105657 \n",
       " 0.000884543\n",
       " 0.000709045\n",
       " 0.000533547\n",
       " 0.000355935\n",
       " 0.000178323\n",
       " 0.0        "
      ]
     },
     "execution_count": 13,
     "metadata": {},
     "output_type": "execute_result"
    }
   ],
   "source": [
    "#use the function to get it JIT ready for testing\n",
    "test(1000,250);"
   ]
  },
  {
   "cell_type": "markdown",
   "metadata": {
    "slideshow": {
     "slide_type": "slide"
    }
   },
   "source": [
    "# Results\n",
    "\n",
    "Tested with the following function"
   ]
  },
  {
   "cell_type": "code",
   "execution_count": 14,
   "metadata": {
    "slideshow": {
     "slide_type": "subslide"
    }
   },
   "outputs": [],
   "source": [
    "function test(N, maxits)\n",
    "    x0=0\n",
    "    xf=1\n",
    "    g0=gf=0\n",
    "\n",
    "    println(\"Serial Jacobi: \")\n",
    "    @time u = jacobi(N, x0, xf, g0, gf, (x)->x/200, maxits)\n",
    "    println(\"\\n Parallel Jacobi: \")\n",
    "    @time pu = parallel_jacobi(N, x0, xf, g0, gf, (x)->x/200, maxits)\n",
    "\n",
    "    println(\"\\nu == pu : $(u==pu)\")\n",
    "end;"
   ]
  },
  {
   "cell_type": "code",
   "execution_count": 15,
   "metadata": {
    "slideshow": {
     "slide_type": "subslide"
    }
   },
   "outputs": [
    {
     "name": "stdout",
     "output_type": "stream",
     "text": [
      "Serial Jacobi: \n",
      " 87.657118 seconds (17 allocations: 381.471 MB, 0.23% gc time)\n",
      "\n",
      " Parallel Jacobi: \n",
      " 46.852401 seconds (1.93 M allocations: 171.581 MB, 0.44% gc time)\n",
      "\n",
      "u == pu : true\n"
     ]
    }
   ],
   "source": [
    "test(10000000, 500);"
   ]
  },
  {
   "cell_type": "markdown",
   "metadata": {},
   "source": [
    "With a **one dimensional** mesh of N=**10M** 64-bit floating point numbers, and **500** iterations, _parallelized Jacobi comes out on top_, nearly _doubling_ the speed of the serial implementation."
   ]
  },
  {
   "cell_type": "markdown",
   "metadata": {
    "slideshow": {
     "slide_type": "subslide"
    }
   },
   "source": [
    "Just to show that it was using all of my CPU cores..."
   ]
  },
  {
   "attachments": {
    "jacobi_serial.png": {
     "image/png": "[encoded data removed]"
    }
   },
   "cell_type": "markdown",
   "metadata": {
    "slideshow": {
     "slide_type": "fragment"
    }
   },
   "source": [
    "## Serial Jacobi CPU Usage\n",
    "![jacobi_serial.png](attachment:jacobi_serial.png)"
   ]
  },
  {
   "attachments": {
    "jacobi_parallel.png": {
     "image/png": "[encoded data removed]"
    }
   },
   "cell_type": "markdown",
   "metadata": {
    "slideshow": {
     "slide_type": "fragment"
    }
   },
   "source": [
    "## Parallel Jacobi CPU Usage\n",
    "![jacobi_parallel.png](attachment:jacobi_parallel.png)"
   ]
  },
  {
   "cell_type": "markdown",
   "metadata": {
    "slideshow": {
     "slide_type": "subslide"
    }
   },
   "source": [
    "Now, the variables here are the mesh-points and the number of iterations."
   ]
  },
  {
   "cell_type": "markdown",
   "metadata": {
    "slideshow": {
     "slide_type": "fragment"
    }
   },
   "source": [
    "The way Jacobi was implemented here is good at performing well on _finer meshes_"
   ]
  },
  {
   "cell_type": "markdown",
   "metadata": {
    "slideshow": {
     "slide_type": "fragment"
    }
   },
   "source": [
    "**However, the speedup is not really significant if you just want more iterations.**"
   ]
  },
  {
   "cell_type": "markdown",
   "metadata": {
    "slideshow": {
     "slide_type": "subslide"
    }
   },
   "source": [
    "### With 1M points, 250 iterations..."
   ]
  },
  {
   "cell_type": "code",
   "execution_count": 16,
   "metadata": {
    "slideshow": {
     "slide_type": "fragment"
    }
   },
   "outputs": [
    {
     "name": "stdout",
     "output_type": "stream",
     "text": [
      "Serial Jacobi: \n",
      "  3.968351 seconds (1.87 k allocations: 38.244 MB, 0.22% gc time)\n",
      "\n",
      " Parallel Jacobi: \n",
      "  3.093878 seconds (876.25 k allocations: 51.540 MB, 0.48% gc time)\n",
      "\n",
      "u == pu : true\n"
     ]
    }
   ],
   "source": [
    "test(1000000,250);"
   ]
  },
  {
   "cell_type": "markdown",
   "metadata": {
    "slideshow": {
     "slide_type": "subslide"
    }
   },
   "source": [
    "### 500 iterations..."
   ]
  },
  {
   "cell_type": "code",
   "execution_count": 17,
   "metadata": {
    "scrolled": true,
    "slideshow": {
     "slide_type": "fragment"
    }
   },
   "outputs": [
    {
     "name": "stdout",
     "output_type": "stream",
     "text": [
      "Serial Jacobi: \n",
      "  7.879829 seconds (2.13 k allocations: 38.257 MB, 0.24% gc time)\n",
      "\n",
      " Parallel Jacobi: \n",
      "  5.905537 seconds (1.75 M allocations: 95.367 MB, 0.40% gc time)\n",
      "\n",
      "u == pu : true\n"
     ]
    }
   ],
   "source": [
    "test(1000000,500);"
   ]
  },
  {
   "cell_type": "markdown",
   "metadata": {
    "slideshow": {
     "slide_type": "subslide"
    }
   },
   "source": [
    "### 1k iterations"
   ]
  },
  {
   "cell_type": "code",
   "execution_count": 18,
   "metadata": {
    "slideshow": {
     "slide_type": "fragment"
    }
   },
   "outputs": [
    {
     "name": "stdout",
     "output_type": "stream",
     "text": [
      "Serial Jacobi: \n",
      " 16.281215 seconds (2.15 k allocations: 38.258 MB, 0.03% gc time)\n",
      "\n",
      " Parallel Jacobi: \n",
      " 11.773927 seconds (3.51 M allocations: 183.025 MB, 0.39% gc time)\n",
      "\n",
      "u == pu : true\n"
     ]
    }
   ],
   "source": [
    "test(1000000,1000);"
   ]
  },
  {
   "cell_type": "markdown",
   "metadata": {
    "slideshow": {
     "slide_type": "subslide"
    }
   },
   "source": [
    "## Whereas while increasing the mesh granularity..."
   ]
  },
  {
   "cell_type": "markdown",
   "metadata": {
    "slideshow": {
     "slide_type": "subslide"
    }
   },
   "source": [
    "### From 10k..."
   ]
  },
  {
   "cell_type": "code",
   "execution_count": 19,
   "metadata": {
    "slideshow": {
     "slide_type": "fragment"
    }
   },
   "outputs": [
    {
     "name": "stdout",
     "output_type": "stream",
     "text": [
      "Serial Jacobi: \n",
      "  0.037244 seconds (10 allocations: 391.328 KB)\n",
      "\n",
      " Parallel Jacobi: \n",
      "  0.568166 seconds (882.54 k allocations: 44.161 MB, 1.46% gc time)\n",
      "\n",
      "u == pu : true\n"
     ]
    }
   ],
   "source": [
    "test(10000,250);"
   ]
  },
  {
   "cell_type": "markdown",
   "metadata": {
    "slideshow": {
     "slide_type": "subslide"
    }
   },
   "source": [
    "### To 100k..."
   ]
  },
  {
   "cell_type": "code",
   "execution_count": 20,
   "metadata": {
    "slideshow": {
     "slide_type": "fragment"
    }
   },
   "outputs": [
    {
     "name": "stdout",
     "output_type": "stream",
     "text": [
      "Serial Jacobi: \n",
      "  0.399087 seconds (10 allocations: 3.815 MB)\n",
      "\n",
      " Parallel Jacobi: \n",
      "  0.807935 seconds (881.37 k allocations: 44.839 MB, 2.11% gc time)\n",
      "\n",
      "u == pu : true\n"
     ]
    }
   ],
   "source": [
    "test(100000,250);"
   ]
  },
  {
   "cell_type": "markdown",
   "metadata": {
    "slideshow": {
     "slide_type": "subslide"
    }
   },
   "source": [
    "### To 1M"
   ]
  },
  {
   "cell_type": "code",
   "execution_count": 21,
   "metadata": {
    "slideshow": {
     "slide_type": "fragment"
    }
   },
   "outputs": [
    {
     "name": "stdout",
     "output_type": "stream",
     "text": [
      "Serial Jacobi: \n",
      "  3.869954 seconds (3.94 k allocations: 38.352 MB, 0.16% gc time)\n",
      "\n",
      " Parallel Jacobi: \n",
      "  3.097642 seconds (867.61 k allocations: 51.276 MB, 1.29% gc time)\n",
      "\n",
      "u == pu : true\n"
     ]
    }
   ],
   "source": [
    "test(1000000,250);"
   ]
  },
  {
   "cell_type": "markdown",
   "metadata": {
    "slideshow": {
     "slide_type": "subslide"
    }
   },
   "source": [
    "Leads to massive increases in performance compared to the serialized version."
   ]
  },
  {
   "cell_type": "markdown",
   "metadata": {
    "slideshow": {
     "slide_type": "slide"
    }
   },
   "source": [
    "# Other Methods?\n",
    "_Chaotic Iterative Methods_"
   ]
  },
  {
   "cell_type": "markdown",
   "metadata": {
    "slideshow": {
     "slide_type": "subslide"
    }
   },
   "source": [
    "Gauss-Siedel and SOR are not able to be parallelized like this, because they **immediately** use the updated values in the next iteration."
   ]
  },
  {
   "cell_type": "markdown",
   "metadata": {
    "slideshow": {
     "slide_type": "fragment"
    }
   },
   "source": [
    "So, while G-S and SOR are generally favored over Jacobi, with parallel hardware Jacobi can often be a valid choice."
   ]
  },
  {
   "cell_type": "markdown",
   "metadata": {
    "slideshow": {
     "slide_type": "fragment"
    }
   },
   "source": [
    "However, it should be possible to take _whichever updates are available at the time of calculation_ in a parallel method of G-S or SOR. This would not lend itself well to theoretical analysis..."
   ]
  },
  {
   "cell_type": "markdown",
   "metadata": {
    "slideshow": {
     "slide_type": "fragment"
    }
   },
   "source": [
    "But could yield practical benefit, like was seen with Jacobi."
   ]
  },
  {
   "cell_type": "markdown",
   "metadata": {
    "slideshow": {
     "slide_type": "slide"
    }
   },
   "source": [
    "# References\n",
    "\n",
    "https://docs.julialang.org/en/latest/manual/parallel-computing\n",
    "\n",
    "https://docs.julialang.org/en/latest/stdlib/parallel.html\n",
    "\n",
    "Bru R, Elsner L, Neumann M. Models of parallel chaotic iteration methods. Linear algebra and its applications. 1988;103:175-192."
   ]
  }
 ],
 "metadata": {
  "celltoolbar": "Slideshow",
  "kernelspec": {
   "display_name": "Julia 0.5.0",
   "language": "julia",
   "name": "julia-0.5"
  },
  "language_info": {
   "file_extension": ".jl",
   "mimetype": "application/julia",
   "name": "julia",
   "version": "0.5.1"
  }
 },
 "nbformat": 4,
 "nbformat_minor": 2
}
