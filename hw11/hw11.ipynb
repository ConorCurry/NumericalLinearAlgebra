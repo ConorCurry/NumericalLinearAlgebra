{
 "cells": [
  {
   "cell_type": "code",
   "execution_count": 90,
   "metadata": {
    "collapsed": false,
    "deletable": true,
    "editable": true
   },
   "outputs": [
    {
     "data": {
      "text/plain": [
       "5-element Array{Int64,1}:\n",
       " 0\n",
       " 0\n",
       " 0\n",
       " 0\n",
       " 6"
      ]
     },
     "execution_count": 90,
     "metadata": {},
     "output_type": "execute_result"
    }
   ],
   "source": [
    "N = 10\n",
    "A = cat(2, \n",
    "    [2, -1, 0, 0, 0],\n",
    "    [-1, 2, -1, 0, 0],\n",
    "    [0, -1, 2, -1, 0],\n",
    "    [0, 0, -1, 2, -1],\n",
    "    [0, 0, 0, -1, 2])\n",
    "x = [1, 2, 3, 4, 5]\n",
    "b = A * x"
   ]
  },
  {
   "cell_type": "code",
   "execution_count": 91,
   "metadata": {
    "collapsed": false,
    "deletable": true,
    "editable": true
   },
   "outputs": [
    {
     "name": "stderr",
     "output_type": "stream",
     "text": [
      "WARNING: Method definition conjugate_gradient(Any, Any, Any, Any) in module Main at In[85]:2 overwritten at In[91]:2.\n"
     ]
    },
    {
     "data": {
      "text/plain": [
       "conjugate_gradient (generic function with 1 method)"
      ]
     },
     "execution_count": 91,
     "metadata": {},
     "output_type": "execute_result"
    }
   ],
   "source": [
    "function conjugate_gradient(A, x, b, ϵ)\n",
    "    r = b - (A * x)\n",
    "    d = r\n",
    "    res_cond = ϵ * norm(b)\n",
    "    rs = [norm(r)]\n",
    "    for i in 1:10\n",
    "        r_prev = r\n",
    "        x_prev = x\n",
    "        Δ_cond = ϵ * norm(x)\n",
    "        if dot(d, A*d) != 0\n",
    "            α = dot(d,r) / dot(d, A*d)\n",
    "        else\n",
    "            return rs, x\n",
    "        end\n",
    "        x = x + α*d\n",
    "        r = b - (A * x)\n",
    "        if norm(r) < res_cond && norm(x - x_prev) < Δ_cond\n",
    "            return rs,x\n",
    "        end\n",
    "        β = dot(r,r) / dot(r_prev, r_prev)\n",
    "        d = r + β*d\n",
    "        push!(rs, norm(r))\n",
    "    end\n",
    "    return rs, x\n",
    "end"
   ]
  },
  {
   "cell_type": "code",
   "execution_count": 92,
   "metadata": {
    "collapsed": false,
    "deletable": true,
    "editable": true
   },
   "outputs": [
    {
     "name": "stdout",
     "output_type": "stream",
     "text": [
      "Residuals: [0.0]\n",
      "Final x: [1,2,3,4,5]\n",
      "Completed in 0 iterations.\n"
     ]
    }
   ],
   "source": [
    "residuals, x = conjugate_gradient(A, collect(1:5), b, .0001)\n",
    "println(\"Residuals: $residuals\\nFinal x: $x\\nCompleted in $(length(residuals)-1) iterations.\")"
   ]
  },
  {
   "cell_type": "code",
   "execution_count": 93,
   "metadata": {
    "collapsed": false,
    "deletable": true,
    "editable": true
   },
   "outputs": [
    {
     "name": "stdout",
     "output_type": "stream",
     "text": [
      "Residuals: [6.0,3.0,2.0,1.5,1.2,6.28037e-16]\n",
      "Final x: [1.0,2.0,3.0,4.0,5.0]\n",
      "Completed in 5 iterations.\n"
     ]
    }
   ],
   "source": [
    "residuals, x = conjugate_gradient(A, zeros(5), b, .0001)\n",
    "println(\"Residuals: $residuals\\nFinal x: $x\\nCompleted in $(length(residuals)-1) iterations.\")"
   ]
  },
  {
   "cell_type": "code",
   "execution_count": 94,
   "metadata": {
    "collapsed": false,
    "deletable": true,
    "editable": true
   },
   "outputs": [
    {
     "data": {
      "text/plain": [
       "5×5 Array{Int64,2}:\n",
       "  2  -1   0  -1   0\n",
       " -1   3  -1   0  -1\n",
       "  0  -1   2  -1   0\n",
       " -1   0  -1   3  -1\n",
       "  0  -1   0  -1   3"
      ]
     },
     "execution_count": 94,
     "metadata": {},
     "output_type": "execute_result"
    }
   ],
   "source": [
    "A = cat(2,\n",
    "    [2,-1,0,-1,0],\n",
    "    [-1,3,-1,0,-1],\n",
    "    [0,-1,2,-1,0],\n",
    "    [-1,0,-1,3,-1],\n",
    "    [0,-1,0,-1,3])"
   ]
  },
  {
   "cell_type": "code",
   "execution_count": 95,
   "metadata": {
    "collapsed": false
   },
   "outputs": [
    {
     "name": "stdout",
     "output_type": "stream",
     "text": [
      "Residuals: [6.55744,1.32075,1.27839,2.29952,0.875979,7.48392e-15]\n",
      "Final x: [6.0,6.0,6.0,6.0,6.0]\n",
      "Completed in 5 iterations.\n",
      "Residuals: [6.0,2.82843,2.42437,1.29625e-14]\n",
      "Final x: [6.0,6.0,6.0,6.0,6.0]\n",
      "Completed in 3 iterations.\n"
     ]
    }
   ],
   "source": [
    "residuals, x = conjugate_gradient(A, collect(1:5), b, .0001)\n",
    "println(\"Residuals: $residuals\\nFinal x: $x\\nCompleted in $(length(residuals)-1) iterations.\")\n",
    "residuals, x = conjugate_gradient(A, zeros(5), b, .0001)\n",
    "println(\"Residuals: $residuals\\nFinal x: $x\\nCompleted in $(length(residuals)-1) iterations.\")"
   ]
  }
 ],
 "metadata": {
  "kernelspec": {
   "display_name": "Julia 0.5.0",
   "language": "julia",
   "name": "julia-0.5"
  },
  "language_info": {
   "file_extension": ".jl",
   "mimetype": "application/julia",
   "name": "julia",
   "version": "0.5.1"
  }
 },
 "nbformat": 4,
 "nbformat_minor": 2
}
